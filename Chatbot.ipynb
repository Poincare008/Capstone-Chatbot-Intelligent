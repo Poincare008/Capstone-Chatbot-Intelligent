{
 "cells": [
  {
   "cell_type": "markdown",
   "id": "1af6e10a",
   "metadata": {},
   "source": []
  },
  {
   "cell_type": "code",
   "execution_count": null,
   "id": "fe39511c",
   "metadata": {},
   "outputs": [],
   "source": [
    "#\n",
    "import os\n",
    "import json\n",
    "import random\n",
    "import nltk\n",
    "import pickle\n",
    "import numpy as np\n",
    "import torch\n",
    "import torch.nn as nn\n",
    "import torch.optim as optim\n",
    "import torch.nn.functional as F\n",
    "from torch.utils.data import DataLoader, TensorDataset\n",
    "from tqdm import tqdm\n",
    "import matplotlib.pyplot as plt\n",
    "\n",
    "from sklearn.feature_extraction.text import TfidfVectorizer\n",
    "from sklearn.model_selection import train_test_split\n",
    "from sklearn.metrics import classification_report, accuracy_score\n",
    "from nltk.corpus import stopwords\n",
    "from nltk.stem import WordNetLemmatizer\n",
    "#nltk.download('stopwords')\n",
    "from collections import Counter\n",
    "\n",
    "import threading\n",
    "from tkinter import *\n",
    "from tkinter import scrolledtext\n"
   ]
  },
  {
   "cell_type": "code",
   "execution_count": null,
   "id": "26f59bcf",
   "metadata": {},
   "outputs": [],
   "source": [
    "\"\"\"# load the dataset\n",
    "with open('data/healthcare.json','r',encoding='utf-8') as f:\n",
    "    data = json.load(f)\n",
    "\n",
    "intents = {'intents':[]}\n",
    "#\n",
    "for convo in data:\n",
    "    tag = convo.get(\"agent_selected_tool\", \"general\").replace(\" \",\"_\").lower()\n",
    "\n",
    "\n",
    "    pattern = convo.get(\"user_1\", \"\")\n",
    "    response = convo.get(\"agent_initial_response\", \"\")\n",
    "\n",
    "\n",
    "    if pattern and response:\n",
    "        intents['intents'].append({\n",
    "            \"tag\":tag,\n",
    "            \"patterns\":[pattern],\n",
    "            \"responses\":[response]\n",
    "        })\n",
    "\n",
    "# Save the new dataset\n",
    "with open(\"data/healthcare_intents.json\", \"w\", encoding=\"utf-8\") as f:\n",
    "    json.dump(intents, f, indent=4)\n",
    "\n",
    "\n",
    "print('Dataset intentions create with sucess!')\"\"\"\n",
    "    \n",
    "\n",
    "\n",
    "\n",
    "\n",
    "\n",
    "\n"
   ]
  },
  {
   "cell_type": "code",
   "execution_count": null,
   "id": "51320f19",
   "metadata": {},
   "outputs": [],
   "source": [
    "#\n",
    "class ChatbotModel(nn.Module):\n",
    "    def __init__(self, input_size, output_size):\n",
    "        super().__init__()\n",
    "        self.fc1 = nn.Linear(input_size, 512)\n",
    "        self.bn1 = nn.BatchNorm1d(512)\n",
    "        self.fc2 = nn.Linear(512, 256)\n",
    "        self.bn2 = nn.BatchNorm1d(256)\n",
    "        self.fc3 = nn.Linear(256, 128)\n",
    "        self.bn3 = nn.BatchNorm1d(128)\n",
    "        self.fc4 = nn.Linear(128, 64)\n",
    "        self.drop = nn.Dropout(0.4)\n",
    "        self.out = nn.Linear(64, output_size)\n",
    "        self.relu = nn.ReLU()\n",
    "\n",
    "    def forward(self, x):\n",
    "        x = self.relu(self.bn1(self.fc1(x)))\n",
    "        x = self.drop(x)\n",
    "        x = self.relu(self.bn2(self.fc2(x)))\n",
    "        x = self.drop(x)\n",
    "        x = self.relu(self.bn3(self.fc3(x)))\n",
    "        x = self.drop(x)\n",
    "        x = self.relu(self.fc4(x))\n",
    "        x = self.out(x)  \n",
    "        return x\n"
   ]
  },
  {
   "cell_type": "code",
   "execution_count": 12,
   "id": "de592113",
   "metadata": {},
   "outputs": [],
   "source": [
    "#\n",
    "class ChatbotAssistant:\n",
    "    def __init__(self, intents_path, function_mappings=None, device=None):\n",
    "        self.intents_path = intents_path\n",
    "        self.function_mappings = function_mappings\n",
    "\n",
    "        self.documents = []              \n",
    "        self.intents = []                \n",
    "        self.intents_responses = {}      \n",
    "\n",
    "        \n",
    "        self.vectorizer = None\n",
    "        self.label_names = None\n",
    "        self.model = None\n",
    "\n",
    "        \n",
    "        self.X = None\n",
    "        self.y = None\n",
    "\n",
    "        \n",
    "        self.device = device or (\"cuda\" if torch.cuda.is_available() else \"cpu\")\n",
    "\n",
    "    \n",
    "    # \n",
    "    @staticmethod\n",
    "    def preprocess_text(text):\n",
    "        lemmatizer = WordNetLemmatizer()\n",
    "        stop_words = set(stopwords.words('english'))\n",
    "        if not isinstance(text, str):\n",
    "            return \"\"\n",
    "        tokens = nltk.word_tokenize(text.lower())\n",
    "        tokens = [t for t in tokens if t.isalpha() and t not in stop_words]\n",
    "        lemmas = [lemmatizer.lemmatize(t) for t in tokens]\n",
    "        return \" \".join(lemmas)\n",
    "\n",
    "    \n",
    "    \n",
    "    # \n",
    "    def parse_intents(self):\n",
    "        if not os.path.exists(self.intents_path):\n",
    "            raise FileNotFoundError(f\"File not found: {self.intents_path}\")\n",
    "\n",
    "        with open(self.intents_path, \"r\", encoding=\"utf-8\") as f:\n",
    "            data = json.load(f)\n",
    "\n",
    "        self.documents = []\n",
    "        self.intents = []\n",
    "        self.intents_responses = {}\n",
    "\n",
    "        for intent in data.get(\"intents\", []):\n",
    "            tag = intent.get(\"tag\")\n",
    "            if tag is None:\n",
    "                continue\n",
    "            if tag not in self.intents:\n",
    "                self.intents.append(tag)\n",
    "                self.intents_responses[tag] = intent.get(\"responses\", [])\n",
    "\n",
    "            for pattern in intent.get(\"patterns\", []):\n",
    "                cleaned = self.preprocess_text(pattern)\n",
    "               \n",
    "                self.documents.append((cleaned, tag))\n",
    "\n",
    "        print(f\"Loaded {len(self.documents)} patterns across {len(self.intents)} intents.\")\n",
    "\n",
    "    \n",
    "    \n",
    "    # \n",
    "    def build_features(self, max_features=2000):\n",
    "        texts = [doc[0] for doc in self.documents]\n",
    "        tags = [doc[1] for doc in self.documents]\n",
    "\n",
    "        \n",
    "        self.label_names = sorted(list(set(self.intents)))\n",
    "        tag_to_idx = {t: i for i, t in enumerate(self.label_names)}\n",
    "        self.y = np.array([tag_to_idx[t] for t in tags])\n",
    "\n",
    "        \n",
    "        self.vectorizer = TfidfVectorizer(max_features=max_features)\n",
    "        X = self.vectorizer.fit_transform(texts).toarray()\n",
    "        self.X = X\n",
    "        print(f\"TF-IDF built: X.shape = {self.X.shape}, y.shape = {self.y.shape}\")\n",
    "\n",
    "        cnt = Counter(self.y)\n",
    "        valid = [cls for cls, c in cnt.items() if c >= 2]\n",
    "        mask = np.isin(self.y, valid)\n",
    "        self.X = self.X[mask]\n",
    "        self.y = self.y[mask]\n",
    "        print(\"Filtered shapes:\", self.X.shape, self.y.shape)\n",
    "\n",
    "        old_label_names = self.label_names\n",
    "        new_label_names = [old_label_names[i] for i in valid]\n",
    "\n",
    "        old_to_new = {old_idx: new_idx for new_idx, old_idx in enumerate(valid)}\n",
    "\n",
    "        self.y = np.array([old_to_new[int(old)] for old in self.y if int(old) in old_to_new])\n",
    "\n",
    "        self.label_names = new_label_names\n",
    "        \n",
    "        print(f\"Nouvelle taille de label_names : {len(self.label_names)}\")\n",
    "   \n",
    "    \n",
    "    # \n",
    "    def train_model(self,\n",
    "                    batch_size=32,\n",
    "                    lr=1e-3,\n",
    "                    epochs=50,\n",
    "                    max_features=2000,\n",
    "                    test_size=0.2,\n",
    "                    scheduler_step=None,\n",
    "                    scheduler_gamma=0.8,\n",
    "                    random_state=42):\n",
    "        \n",
    "        if self.X is None or self.y is None:\n",
    "            print(\"Building features (TF-IDF)...\")\n",
    "            self.build_features(max_features=max_features)\n",
    "\n",
    "    # \n",
    "        cnt = Counter(self.y)\n",
    "        valid = [cls for cls, c in cnt.items() if c >= 2]\n",
    "\n",
    "        if len(valid) < 2:\n",
    "            raise ValueError(\"Not enough valid classes with at least 2 samples each!\")\n",
    "\n",
    "        mask = np.isin(self.y, valid)\n",
    "        self.X = self.X[mask]\n",
    "        self.y = self.y[mask]\n",
    "\n",
    "        print(f\"Filtered dataset: {len(self.y)} samples, {len(valid)} valid classes\")\n",
    "\n",
    "    # \n",
    "        X_train, X_test, y_train, y_test = train_test_split(\n",
    "            self.X, self.y, test_size=test_size, random_state=random_state,\n",
    "            stratify=self.y if len(set(self.y)) > 1 else None\n",
    "    )\n",
    "        print(f\"Train samples: {len(X_train)}, Test samples: {len(X_test)}\")\n",
    "\n",
    "        # \n",
    "        X_train_t = torch.tensor(X_train, dtype=torch.float32)\n",
    "        y_train_t = torch.tensor(y_train, dtype=torch.long)\n",
    "        X_test_t = torch.tensor(X_test, dtype=torch.float32)\n",
    "        y_test_t = torch.tensor(y_test, dtype=torch.long)\n",
    "\n",
    "        train_loader = DataLoader(TensorDataset(X_train_t, y_train_t),\n",
    "                              batch_size=batch_size, shuffle=True)\n",
    "\n",
    "    # \n",
    "        input_size = self.X.shape[1]\n",
    "        output_size = len(valid)  \n",
    "\n",
    "        self.model = ChatbotModel(input_size, output_size)\n",
    "\n",
    "        criterion = nn.CrossEntropyLoss()\n",
    "        optimizer = optim.Adam(self.model.parameters(), lr=lr)\n",
    "        scheduler = optim.lr_scheduler.StepLR(optimizer, step_size=scheduler_step, gamma=scheduler_gamma)\n",
    "\n",
    "        # \n",
    "        print(\"\\n Starting training...\\n\")\n",
    "        loss_values = []\n",
    "\n",
    "        for epoch in range(epochs):\n",
    "            self.model.train()\n",
    "            running_loss = 0.0\n",
    "\n",
    "            for batch_X, batch_y in tqdm(train_loader, desc=f\"Epoch {epoch+1}/{epochs}\", leave=False):\n",
    "                optimizer.zero_grad()\n",
    "                outputs = self.model(batch_X)\n",
    "                loss = criterion(outputs, batch_y)\n",
    "                loss.backward()\n",
    "                optimizer.step()\n",
    "                running_loss += loss.item()\n",
    "\n",
    "            scheduler.step()\n",
    "            epoch_loss = running_loss / len(train_loader)\n",
    "            loss_values.append(epoch_loss)\n",
    "            print(f\"Epoch {epoch+1}/{epochs} | Loss: {epoch_loss:.4f} | LR: {scheduler.get_last_lr()[0]:.6f}\")\n",
    "\n",
    "        # \n",
    "        plt.figure(figsize=(8, 5))\n",
    "        plt.plot(loss_values, label=\"Training Loss\", color=\"blue\")\n",
    "        plt.title(\"Training Loss Curve\")\n",
    "        plt.xlabel(\"Epochs\")\n",
    "        plt.ylabel(\"Loss\")\n",
    "        plt.legend()\n",
    "        plt.grid(True)\n",
    "        plt.show()\n",
    "\n",
    "        # \n",
    "        self.model.eval()\n",
    "        with torch.no_grad():\n",
    "            preds = torch.argmax(self.model(X_test_t), dim=1).numpy()\n",
    "\n",
    "        acc = accuracy_score(y_test, preds)\n",
    "        print(\"\\n=== Test set evaluation ===\")\n",
    "        print(f\"Accuracy: {acc:.4f}\")\n",
    "\n",
    "    # \n",
    "        unique_labels = np.unique(y_test)\n",
    "        filtered_names = [self.label_names[i] for i in unique_labels if i < len(self.label_names)]\n",
    "\n",
    "        print(classification_report(\n",
    "        y_test, preds,\n",
    "        labels=unique_labels,\n",
    "        target_names=filtered_names,\n",
    "        zero_division=0\n",
    "    ))\n",
    "\n",
    "        print(\"\\n Model training + evaluation complete.\")\n",
    "\n",
    "        # \n",
    "        print(\"Model training + evaluation complete.\")\n",
    "        unique_labels = np.unique(y_test)\n",
    "        filtered_names = [self.label_names[i] for i in unique_labels]\n",
    "    \n",
    "    \n",
    "    # \n",
    "    def save_all(self, model_path=\"chat_model.pth\", meta_path=\"meta.pkl\"):\n",
    "        torch.save(self.model.state_dict(), model_path)\n",
    "        meta = {\n",
    "            \"label_names\": self.label_names,\n",
    "            \"vectorizer\": self.vectorizer  \n",
    "        }\n",
    "        \n",
    "        with open(meta_path, \"wb\") as f:\n",
    "            pickle.dump(meta, f)\n",
    "        print(f\"Saved model to {model_path} and meta to {meta_path}.\")\n",
    "\n",
    "    def load_all(self, model_path=\"chat_model.pth\", meta_path=\"meta.pkl\"):\n",
    "        with open(meta_path, \"rb\") as f:\n",
    "            meta = pickle.load(f)\n",
    "        self.label_names = meta[\"label_names\"]\n",
    "        self.vectorizer = meta[\"vectorizer\"]\n",
    "        input_size = self.vectorizer.max_features if hasattr(self.vectorizer, \"max_features\") and self.vectorizer.max_features is not None else self.vectorizer.vocabulary_.__len__()\n",
    "        \n",
    "        input_size = len(self.vectorizer.get_feature_names_out())\n",
    "        output_size = len(self.label_names)\n",
    "        self.model = ChatbotModel(input_size, output_size).to(self.device)\n",
    "        self.model.load_state_dict(torch.load(model_path, map_location=self.device))\n",
    "        self.model.eval()\n",
    "        print(f\"Loaded model and meta from {model_path}, {meta_path}.\")\n",
    "\n",
    "    \n",
    "    \n",
    "    # \n",
    "    def process_message(self, input_message, threshold=0.65, log_uncertain=True):\n",
    "        if self.model is None or self.vectorizer is None:\n",
    "            raise RuntimeError(\"Model or vectorizer not loaded. Call train_model() or load_all() first.\")\n",
    "\n",
    "        cleaned = self.preprocess_text(input_message)\n",
    "        vec = self.vectorizer.transform([cleaned]).toarray()\n",
    "        input_t = torch.tensor(vec, dtype=torch.float32).to(self.device)\n",
    "\n",
    "        with torch.no_grad():\n",
    "            logits = self.model(input_t)\n",
    "            probs = F.softmax(logits, dim=1)\n",
    "            confidence, idx = torch.max(probs, dim=1)\n",
    "            confidence = confidence.item()\n",
    "            pred_idx = idx.item()\n",
    "            predicted_intent = self.label_names[pred_idx]\n",
    "\n",
    "        if confidence >= threshold:\n",
    "            \n",
    "            resp = random.choice(self.intents_responses.get(predicted_intent, [\"Sorry, I don't have a response.\"]))\n",
    "            return f\"({confidence*100:.1f}% confident) {resp}\"\n",
    "        else:\n",
    "            if log_uncertain:\n",
    "                with open(\"uncertain_inputs.log\", \"a\", encoding=\"utf-8\") as f:\n",
    "                    f.write(input_message.strip() + \"\\n\")\n",
    "            return \"I'm not sure I understood that. Could you rephrase?\"\n",
    "\n",
    "\n",
    "\n",
    " \n"
   ]
  },
  {
   "cell_type": "code",
   "execution_count": null,
   "metadata": {},
   "outputs": [
    {
     "name": "stdout",
     "output_type": "stream",
     "text": [
      "Loaded 758 patterns across 137 intents.\n",
      "🔧 Building features (TF-IDF)...\n",
      "TF-IDF built: X.shape = (758, 852), y.shape = (758,)\n",
      "Filtered shapes: (690, 852) (690,)\n",
      "Nouvelle taille de label_names : 69\n",
      "Filtered dataset: 690 samples, 69 valid classes\n",
      "Train samples: 552, Test samples: 138\n",
      "\n",
      "🚀 Starting training...\n",
      "\n"
     ]
    },
    {
     "name": "stderr",
     "output_type": "stream",
     "text": [
      "                                                           \r"
     ]
    },
    {
     "name": "stdout",
     "output_type": "stream",
     "text": [
      "Epoch 1/50 | Loss: 4.1347 | LR: 0.001000\n"
     ]
    },
    {
     "name": "stderr",
     "output_type": "stream",
     "text": [
      "                                                           \r"
     ]
    },
    {
     "name": "stdout",
     "output_type": "stream",
     "text": [
      "Epoch 2/50 | Loss: 3.7100 | LR: 0.001000\n"
     ]
    },
    {
     "name": "stderr",
     "output_type": "stream",
     "text": [
      "                                                           \r"
     ]
    },
    {
     "name": "stdout",
     "output_type": "stream",
     "text": [
      "Epoch 3/50 | Loss: 3.0996 | LR: 0.001000\n"
     ]
    },
    {
     "name": "stderr",
     "output_type": "stream",
     "text": [
      "                                                           \r"
     ]
    },
    {
     "name": "stdout",
     "output_type": "stream",
     "text": [
      "Epoch 4/50 | Loss: 2.6856 | LR: 0.001000\n"
     ]
    },
    {
     "name": "stderr",
     "output_type": "stream",
     "text": [
      "                                                           \r"
     ]
    },
    {
     "name": "stdout",
     "output_type": "stream",
     "text": [
      "Epoch 5/50 | Loss: 2.3039 | LR: 0.001000\n"
     ]
    },
    {
     "name": "stderr",
     "output_type": "stream",
     "text": [
      "                                                           \r"
     ]
    },
    {
     "name": "stdout",
     "output_type": "stream",
     "text": [
      "Epoch 6/50 | Loss: 2.1153 | LR: 0.001000\n"
     ]
    },
    {
     "name": "stderr",
     "output_type": "stream",
     "text": [
      "                                                           \r"
     ]
    },
    {
     "name": "stdout",
     "output_type": "stream",
     "text": [
      "Epoch 7/50 | Loss: 1.8933 | LR: 0.001000\n"
     ]
    },
    {
     "name": "stderr",
     "output_type": "stream",
     "text": [
      "                                                           \r"
     ]
    },
    {
     "name": "stdout",
     "output_type": "stream",
     "text": [
      "Epoch 8/50 | Loss: 1.6653 | LR: 0.001000\n"
     ]
    },
    {
     "name": "stderr",
     "output_type": "stream",
     "text": [
      "                                                           \r"
     ]
    },
    {
     "name": "stdout",
     "output_type": "stream",
     "text": [
      "Epoch 9/50 | Loss: 1.5059 | LR: 0.001000\n"
     ]
    },
    {
     "name": "stderr",
     "output_type": "stream",
     "text": [
      "                                                            \r"
     ]
    },
    {
     "name": "stdout",
     "output_type": "stream",
     "text": [
      "Epoch 10/50 | Loss: 1.4091 | LR: 0.001000\n"
     ]
    },
    {
     "name": "stderr",
     "output_type": "stream",
     "text": [
      "                                                            \r"
     ]
    },
    {
     "name": "stdout",
     "output_type": "stream",
     "text": [
      "Epoch 11/50 | Loss: 1.2823 | LR: 0.001000\n"
     ]
    },
    {
     "name": "stderr",
     "output_type": "stream",
     "text": [
      "                                                            \r"
     ]
    },
    {
     "name": "stdout",
     "output_type": "stream",
     "text": [
      "Epoch 12/50 | Loss: 1.1228 | LR: 0.001000\n"
     ]
    },
    {
     "name": "stderr",
     "output_type": "stream",
     "text": [
      "                                                            \r"
     ]
    },
    {
     "name": "stdout",
     "output_type": "stream",
     "text": [
      "Epoch 13/50 | Loss: 1.0567 | LR: 0.001000\n"
     ]
    },
    {
     "name": "stderr",
     "output_type": "stream",
     "text": [
      "                                                            \r"
     ]
    },
    {
     "name": "stdout",
     "output_type": "stream",
     "text": [
      "Epoch 14/50 | Loss: 1.0369 | LR: 0.001000\n"
     ]
    },
    {
     "name": "stderr",
     "output_type": "stream",
     "text": [
      "                                                            \r"
     ]
    },
    {
     "name": "stdout",
     "output_type": "stream",
     "text": [
      "Epoch 15/50 | Loss: 0.9482 | LR: 0.000800\n"
     ]
    },
    {
     "name": "stderr",
     "output_type": "stream",
     "text": [
      "                                                            \r"
     ]
    },
    {
     "name": "stdout",
     "output_type": "stream",
     "text": [
      "Epoch 16/50 | Loss: 0.8850 | LR: 0.000800\n"
     ]
    },
    {
     "name": "stderr",
     "output_type": "stream",
     "text": [
      "                                                            \r"
     ]
    },
    {
     "name": "stdout",
     "output_type": "stream",
     "text": [
      "Epoch 17/50 | Loss: 0.8231 | LR: 0.000800\n"
     ]
    },
    {
     "name": "stderr",
     "output_type": "stream",
     "text": [
      "                                                            \r"
     ]
    },
    {
     "name": "stdout",
     "output_type": "stream",
     "text": [
      "Epoch 18/50 | Loss: 0.7523 | LR: 0.000800\n"
     ]
    },
    {
     "name": "stderr",
     "output_type": "stream",
     "text": [
      "                                                            \r"
     ]
    },
    {
     "name": "stdout",
     "output_type": "stream",
     "text": [
      "Epoch 19/50 | Loss: 0.7103 | LR: 0.000800\n"
     ]
    },
    {
     "name": "stderr",
     "output_type": "stream",
     "text": [
      "                                                            \r"
     ]
    },
    {
     "name": "stdout",
     "output_type": "stream",
     "text": [
      "Epoch 20/50 | Loss: 0.7530 | LR: 0.000800\n"
     ]
    },
    {
     "name": "stderr",
     "output_type": "stream",
     "text": [
      "                                                            \r"
     ]
    },
    {
     "name": "stdout",
     "output_type": "stream",
     "text": [
      "Epoch 21/50 | Loss: 0.7069 | LR: 0.000800\n"
     ]
    },
    {
     "name": "stderr",
     "output_type": "stream",
     "text": [
      "                                                            \r"
     ]
    },
    {
     "name": "stdout",
     "output_type": "stream",
     "text": [
      "Epoch 22/50 | Loss: 0.5935 | LR: 0.000800\n"
     ]
    },
    {
     "name": "stderr",
     "output_type": "stream",
     "text": [
      "                                                            \r"
     ]
    },
    {
     "name": "stdout",
     "output_type": "stream",
     "text": [
      "Epoch 23/50 | Loss: 0.6344 | LR: 0.000800\n"
     ]
    },
    {
     "name": "stderr",
     "output_type": "stream",
     "text": [
      "                                                            \r"
     ]
    },
    {
     "name": "stdout",
     "output_type": "stream",
     "text": [
      "Epoch 24/50 | Loss: 0.5053 | LR: 0.000800\n"
     ]
    },
    {
     "name": "stderr",
     "output_type": "stream",
     "text": [
      "                                                            \r"
     ]
    },
    {
     "name": "stdout",
     "output_type": "stream",
     "text": [
      "Epoch 25/50 | Loss: 0.5422 | LR: 0.000800\n"
     ]
    },
    {
     "name": "stderr",
     "output_type": "stream",
     "text": [
      "                                                            \r"
     ]
    },
    {
     "name": "stdout",
     "output_type": "stream",
     "text": [
      "Epoch 26/50 | Loss: 0.4540 | LR: 0.000800\n"
     ]
    },
    {
     "name": "stderr",
     "output_type": "stream",
     "text": [
      "                                                            \r"
     ]
    },
    {
     "name": "stdout",
     "output_type": "stream",
     "text": [
      "Epoch 27/50 | Loss: 0.4321 | LR: 0.000800\n"
     ]
    },
    {
     "name": "stderr",
     "output_type": "stream",
     "text": [
      "                                                            \r"
     ]
    },
    {
     "name": "stdout",
     "output_type": "stream",
     "text": [
      "Epoch 28/50 | Loss: 0.4375 | LR: 0.000800\n"
     ]
    },
    {
     "name": "stderr",
     "output_type": "stream",
     "text": [
      "                                                            \r"
     ]
    },
    {
     "name": "stdout",
     "output_type": "stream",
     "text": [
      "Epoch 29/50 | Loss: 0.4002 | LR: 0.000800\n"
     ]
    },
    {
     "name": "stderr",
     "output_type": "stream",
     "text": [
      "                                                            \r"
     ]
    },
    {
     "name": "stdout",
     "output_type": "stream",
     "text": [
      "Epoch 30/50 | Loss: 0.4119 | LR: 0.000640\n"
     ]
    },
    {
     "name": "stderr",
     "output_type": "stream",
     "text": [
      "                                                            \r"
     ]
    },
    {
     "name": "stdout",
     "output_type": "stream",
     "text": [
      "Epoch 31/50 | Loss: 0.3349 | LR: 0.000640\n"
     ]
    },
    {
     "name": "stderr",
     "output_type": "stream",
     "text": [
      "                                                            \r"
     ]
    },
    {
     "name": "stdout",
     "output_type": "stream",
     "text": [
      "Epoch 32/50 | Loss: 0.3286 | LR: 0.000640\n"
     ]
    },
    {
     "name": "stderr",
     "output_type": "stream",
     "text": [
      "                                                            \r"
     ]
    },
    {
     "name": "stdout",
     "output_type": "stream",
     "text": [
      "Epoch 33/50 | Loss: 0.2720 | LR: 0.000640\n"
     ]
    },
    {
     "name": "stderr",
     "output_type": "stream",
     "text": [
      "                                                            \r"
     ]
    },
    {
     "name": "stdout",
     "output_type": "stream",
     "text": [
      "Epoch 34/50 | Loss: 0.2685 | LR: 0.000640\n"
     ]
    },
    {
     "name": "stderr",
     "output_type": "stream",
     "text": [
      "                                                            \r"
     ]
    },
    {
     "name": "stdout",
     "output_type": "stream",
     "text": [
      "Epoch 35/50 | Loss: 0.2901 | LR: 0.000640\n"
     ]
    },
    {
     "name": "stderr",
     "output_type": "stream",
     "text": [
      "                                                            \r"
     ]
    },
    {
     "name": "stdout",
     "output_type": "stream",
     "text": [
      "Epoch 36/50 | Loss: 0.2774 | LR: 0.000640\n"
     ]
    },
    {
     "name": "stderr",
     "output_type": "stream",
     "text": [
      "                                                            \r"
     ]
    },
    {
     "name": "stdout",
     "output_type": "stream",
     "text": [
      "Epoch 37/50 | Loss: 0.2539 | LR: 0.000640\n"
     ]
    },
    {
     "name": "stderr",
     "output_type": "stream",
     "text": [
      "                                                            \r"
     ]
    },
    {
     "name": "stdout",
     "output_type": "stream",
     "text": [
      "Epoch 38/50 | Loss: 0.2605 | LR: 0.000640\n"
     ]
    },
    {
     "name": "stderr",
     "output_type": "stream",
     "text": [
      "                                                            \r"
     ]
    },
    {
     "name": "stdout",
     "output_type": "stream",
     "text": [
      "Epoch 39/50 | Loss: 0.2531 | LR: 0.000640\n"
     ]
    },
    {
     "name": "stderr",
     "output_type": "stream",
     "text": [
      "                                                            \r"
     ]
    },
    {
     "name": "stdout",
     "output_type": "stream",
     "text": [
      "Epoch 40/50 | Loss: 0.2276 | LR: 0.000640\n"
     ]
    },
    {
     "name": "stderr",
     "output_type": "stream",
     "text": [
      "                                                            \r"
     ]
    },
    {
     "name": "stdout",
     "output_type": "stream",
     "text": [
      "Epoch 41/50 | Loss: 0.2703 | LR: 0.000640\n"
     ]
    },
    {
     "name": "stderr",
     "output_type": "stream",
     "text": [
      "                                                            \r"
     ]
    },
    {
     "name": "stdout",
     "output_type": "stream",
     "text": [
      "Epoch 42/50 | Loss: 0.2486 | LR: 0.000640\n"
     ]
    },
    {
     "name": "stderr",
     "output_type": "stream",
     "text": [
      "                                                            \r"
     ]
    },
    {
     "name": "stdout",
     "output_type": "stream",
     "text": [
      "Epoch 43/50 | Loss: 0.2355 | LR: 0.000640\n"
     ]
    },
    {
     "name": "stderr",
     "output_type": "stream",
     "text": [
      "                                                            \r"
     ]
    },
    {
     "name": "stdout",
     "output_type": "stream",
     "text": [
      "Epoch 44/50 | Loss: 0.1957 | LR: 0.000640\n"
     ]
    },
    {
     "name": "stderr",
     "output_type": "stream",
     "text": [
      "                                                            \r"
     ]
    },
    {
     "name": "stdout",
     "output_type": "stream",
     "text": [
      "Epoch 45/50 | Loss: 0.1983 | LR: 0.000512\n"
     ]
    },
    {
     "name": "stderr",
     "output_type": "stream",
     "text": [
      "                                                            \r"
     ]
    },
    {
     "name": "stdout",
     "output_type": "stream",
     "text": [
      "Epoch 46/50 | Loss: 0.1991 | LR: 0.000512\n"
     ]
    },
    {
     "name": "stderr",
     "output_type": "stream",
     "text": [
      "                                                            \r"
     ]
    },
    {
     "name": "stdout",
     "output_type": "stream",
     "text": [
      "Epoch 47/50 | Loss: 0.1648 | LR: 0.000512\n"
     ]
    },
    {
     "name": "stderr",
     "output_type": "stream",
     "text": [
      "                                                            \r"
     ]
    },
    {
     "name": "stdout",
     "output_type": "stream",
     "text": [
      "Epoch 48/50 | Loss: 0.2130 | LR: 0.000512\n"
     ]
    },
    {
     "name": "stderr",
     "output_type": "stream",
     "text": [
      "                                                            \r"
     ]
    },
    {
     "name": "stdout",
     "output_type": "stream",
     "text": [
      "Epoch 49/50 | Loss: 0.1608 | LR: 0.000512\n"
     ]
    },
    {
     "name": "stderr",
     "output_type": "stream",
     "text": [
      "                                                            \r"
     ]
    },
    {
     "name": "stdout",
     "output_type": "stream",
     "text": [
      "Epoch 50/50 | Loss: 0.2085 | LR: 0.000512\n"
     ]
    },
    {
     "data": {
      "image/png": "[encoded data removed]",
      "text/plain": [
       "<Figure size 800x500 with 1 Axes>"
      ]
     },
     "metadata": {},
     "output_type": "display_data"
    },
    {
     "name": "stdout",
     "output_type": "stream",
     "text": [
      "\n",
      "=== 🧪 Test set evaluation ===\n",
      "Accuracy: 0.6449\n",
      "                                    precision    recall  f1-score   support\n",
      "\n",
      "                   bookappointment       0.20      0.20      0.20         5\n",
      "             rescheduleappointment       0.80      0.89      0.84         9\n",
      "                 cancelappointment       0.50      0.50      0.50         2\n",
      "                  doctorinfolookup       0.60      0.60      0.60         5\n",
      "                    billingsupport       0.89      1.00      0.94         8\n",
      "                  emergencycontact       0.75      0.75      0.75         4\n",
      "                      transfercall       0.00      0.00      0.00         4\n",
      "                 checkreportstatus       0.89      1.00      0.94         8\n",
      "                 updatepatientinfo       0.92      0.92      0.92        13\n",
      "             insuranceclaimsupport       0.83      0.83      0.83         6\n",
      "                    labtestbooking       1.00      0.67      0.80         3\n",
      "                prescriptionrefill       0.80      1.00      0.89         8\n",
      "         vaccinationschedulelookup       0.43      1.00      0.60         3\n",
      "            vaccinesideeffectsinfo       1.00      0.50      0.67         2\n",
      "             recordtransferrequest       0.75      0.60      0.67         5\n",
      "            telehealthavailability       0.33      0.50      0.40         2\n",
      "       confidentialitypolicylookup       1.00      0.50      0.67         2\n",
      "pediatricvaccinationschedulelookup       0.50      0.50      0.50         2\n",
      "                     confirmupdate       1.00      1.00      1.00         1\n",
      "        mentalhealthresourcelookup       1.00      1.00      1.00         2\n",
      "            recordstransferrequest       1.00      1.00      1.00         1\n",
      "                telehealthplatform       0.00      0.00      0.00         1\n",
      "         travelclearanceformlookup       1.00      1.00      1.00         1\n",
      "             insuranceverification       0.00      0.00      0.00         1\n",
      "       dischargeinstructionslookup       1.00      1.00      1.00         1\n",
      "                          greeting       0.36      1.00      0.53         4\n",
      "                           goodbye       1.00      1.00      1.00         3\n",
      "                            thanks       0.67      0.67      0.67         3\n",
      "                  book_appointment       0.00      0.00      0.00         1\n",
      "            reschedule_appointment       0.00      0.00      0.00         1\n",
      "                cancel_appointment       0.00      0.00      0.00         1\n",
      "                    check_symptoms       0.00      0.00      0.00         1\n",
      "                    insurance_info       0.00      0.00      0.00         1\n",
      "                     working_hours       0.00      0.00      0.00         2\n",
      "                         emergency       1.00      1.00      1.00         2\n",
      "               appointment_booking       0.00      0.00      0.00         1\n",
      "          appointment_cancellation       0.33      1.00      0.50         1\n",
      "            appointment_reschedule       0.00      0.00      0.00         1\n",
      "                     symptom_check       0.00      0.00      0.00         1\n",
      "                         insurance       0.00      0.00      0.00         1\n",
      "               doctor_availability       0.00      0.00      0.00         1\n",
      "                      test_results       0.00      0.00      0.00         1\n",
      "                           billing       0.00      0.00      0.00         1\n",
      "                          location       0.00      0.00      0.00         1\n",
      "                      opening_days       0.00      0.00      0.00         1\n",
      "             doctor_specialization       0.00      0.00      0.00         1\n",
      "               prescription_refill       0.00      0.00      0.00         1\n",
      "                       vaccination       0.00      0.00      0.00         1\n",
      "                          feedback       1.00      1.00      1.00         1\n",
      "                     mental_health       0.00      0.00      0.00         1\n",
      "                    diet_nutrition       1.00      1.00      1.00         1\n",
      "               general_health_tips       0.00      0.00      0.00         1\n",
      "                     symptom_fever       0.00      0.00      0.00         1\n",
      "                     symptom_cough       0.00      0.00      0.00         1\n",
      "                      symptom_cold       0.00      0.00      0.00         1\n",
      "\n",
      "                         micro avg       0.65      0.64      0.65       138\n",
      "                         macro avg       0.41      0.43      0.41       138\n",
      "                      weighted avg       0.60      0.64      0.61       138\n",
      "\n",
      "\n",
      "✅ Model training + evaluation complete.\n",
      "Model training + evaluation complete.\n",
      "Saved model to chat_model_tfidf.pth and meta to meta_tfidf.pkl.\n",
      "\n",
      "You can chat. Type /quit to exit.\n",
      "Chatbot: (100.0% confident) Hi there, how can I help?\n",
      "Chatbot: I'm not sure I understood that. Could you rephrase?\n",
      "Chatbot: (98.8% confident) We accept cash, credit cards, and most insurance payments.\n",
      "Chatbot: (75.1% confident) Okay, I can help you with that. Are you looking for the hospital's emergency room contact, or are you trying to update your emergency contact information?\n",
      "Chatbot: I'm not sure I understood that. Could you rephrase?\n",
      "Chatbot: (66.2% confident) You can pay your bill online, by phone, or at the front desk.\n",
      "Chatbot: (98.8% confident) You can pay your bill online, by phone, or at the front desk.\n",
      "Chatbot: (99.9% confident) I can look into that for you. Can you provide your name and the claim number?\n",
      "Chatbot: (100.0% confident) I can assist with that. Please provide your name, date of birth, and your new address and phone number.\n",
      "Chatbot: I'm not sure I understood that. Could you rephrase?\n",
      "Chatbot: I'm not sure I understood that. Could you rephrase?\n",
      "Chatbot: I'm not sure I understood that. Could you rephrase?\n",
      "Chatbot: I'm not sure I understood that. Could you rephrase?\n",
      "Chatbot: (96.0% confident) I am sorry to hear that. Can I have the details of your complaint?\n"
     ]
    }
   ],
   "source": [
    "#\n",
    "\"\"\"if __name__ == \"__main__\":\n",
    "    assistant = ChatbotAssistant(\"data/healthcare_intents.json\")\n",
    "    assistant.parse_intents()\n",
    "    \n",
    "    assistant.train_model(batch_size=32, lr=1e-3, epochs=50, max_features=2000, test_size=0.2, scheduler_step=15, scheduler_gamma=0.8)\n",
    "    assistant.save_all(\"chat_model_tfidf.pth\", \"meta_tfidf.pkl\")\n",
    "\n",
    "    #assistant.load_all('chat_model_tfidf.pth','meta_tfidf.pkl')\n",
    "\n",
    "     \n",
    "    print(\"\\nYou can chat. Type /quit to exit.\")\n",
    "    while True:\n",
    "        msg = input(\"You: \")\n",
    "        if msg.strip().lower() == \"/quit\":\n",
    "            break\n",
    "        print(\"Chatbot:\", assistant.process_message(msg, threshold=0.65))\"\"\""
   ]
  },
  {
   "cell_type": "code",
   "execution_count": 15,
   "metadata": {},
   "outputs": [],
   "source": [
    "\n",
    "\n",
    "from __main__ import ChatbotAssistant\n",
    "\n",
    "# \n",
    "BG_COLOR = \"#1E1E1E\"\n",
    "BOT_COLOR = \"#2D2D2D\"\n",
    "USER_COLOR = \"#0078D7\"\n",
    "TEXT_COLOR = \"#EAECEE\"\n",
    "INPUT_COLOR = \"#2C2C2C\"\n",
    "\n",
    "FONT = \"Helvetica 12\"\n",
    "FONT_BOLD = \"Helvetica 12 bold\"\n",
    "\n",
    "BOT_NAME = \"MedBot 🤖\"\n",
    "\n",
    "# \n",
    "class ModernChatApp:\n",
    "    def __init__(self):\n",
    "        self.window = Tk()\n",
    "        self.window.title(\"MedBot - Healthcare Chat\")\n",
    "        self.window.configure(bg=BG_COLOR)\n",
    "        self.window.geometry(\"500x600\")\n",
    "        self.window.resizable(False, False)\n",
    "\n",
    "        self.setup_ui()\n",
    "\n",
    "       \n",
    "        self.assistant = ChatbotAssistant(\"data/healthcare_intents.json\")\n",
    "        self.assistant.parse_intents()\n",
    "\n",
    "        \n",
    "        if os.path.exists(\"chat_model_tfidf.pth\") and os.path.exists(\"meta_tfidf.pkl\"):\n",
    "            self.assistant.load_all(\"chat_model_tfidf.pth\", \"meta_tfidf.pkl\")\n",
    "            print(\" Model loaded successfully.\")\n",
    "        else:\n",
    "            print(\"Model or metadata not found. Please train it first.\")\n",
    "            \n",
    "\n",
    "    \n",
    "    \n",
    "    # \n",
    "    def setup_ui(self):\n",
    "        # Header\n",
    "        header = Label(self.window, text=\"💬 MedBot Healthcare Assistant\",\n",
    "                       bg=BG_COLOR, fg=\"#00A8E8\", font=(\"Helvetica\", 15, \"bold\"), pady=10)\n",
    "        header.pack(fill=X)\n",
    "\n",
    "        # Chat display (scrollable)\n",
    "        self.chat_display = scrolledtext.ScrolledText(\n",
    "            self.window, wrap=WORD, bg=BOT_COLOR, fg=TEXT_COLOR,\n",
    "            font=FONT, padx=10, pady=10, state=DISABLED\n",
    "        )\n",
    "        self.chat_display.pack(padx=10, pady=10, fill=BOTH, expand=True)\n",
    "\n",
    "        # Bottom frame (input + send button)\n",
    "        bottom_frame = Frame(self.window, bg=BG_COLOR)\n",
    "        bottom_frame.pack(fill=X, side=BOTTOM, pady=5)\n",
    "\n",
    "        self.msg_entry = Entry(bottom_frame, bg=INPUT_COLOR, fg=TEXT_COLOR,\n",
    "                               font=FONT, insertbackground=TEXT_COLOR, relief=FLAT)\n",
    "        self.msg_entry.pack(fill=X, padx=10, pady=10, ipady=8, side=LEFT, expand=True)\n",
    "        self.msg_entry.bind(\"<Return>\", self.send_message)\n",
    "\n",
    "        send_btn = Button(bottom_frame, text=\"Send ➤\", bg=\"#00A8E8\",\n",
    "                          fg=\"white\", font=FONT_BOLD, relief=FLAT,\n",
    "                          command=lambda: self.send_message(None))\n",
    "        send_btn.pack(side=RIGHT, padx=10, pady=5)\n",
    "\n",
    "    \n",
    "    \n",
    "    # \n",
    "    def send_message(self, event):\n",
    "        msg = self.msg_entry.get().strip()\n",
    "        if not msg:\n",
    "            return\n",
    "        self.msg_entry.delete(0, END)\n",
    "\n",
    "        self._insert_message(msg, sender=\"You\", align=\"right\", color=USER_COLOR)\n",
    "\n",
    "        # Simulate typing\n",
    "        self._insert_message(\"typing...\", sender=BOT_NAME, align=\"left\", color=\"#777777\", temp=True)\n",
    "\n",
    "        # Run bot response in a separate thread\n",
    "        threading.Thread(target=self._get_bot_response, args=(msg,)).start()\n",
    "\n",
    "    def _get_bot_response(self, msg):\n",
    "        try:\n",
    "            response = self.assistant.process_message(msg)\n",
    "        except Exception as e:\n",
    "            response = f\" Error: {e}\"\n",
    "\n",
    "        # Remove \"typing...\"\n",
    "        self._delete_last_line()\n",
    "        self._insert_message(response, sender=BOT_NAME, align=\"left\", color=\"#00A8E8\")\n",
    "\n",
    "    \n",
    "    \n",
    "    # \n",
    "    def _insert_message(self, text, sender, align=\"left\", color=\"#00A8E8\", temp=False):\n",
    "        self.chat_display.configure(state=NORMAL)\n",
    "\n",
    "        tag_name = f\"{sender}_{align}_{color}\"\n",
    "        self.chat_display.tag_configure(tag_name, justify=align, foreground=color, spacing3=5)\n",
    "\n",
    "        message = f\"{sender}: {text}\\n\\n\"\n",
    "        self.chat_display.insert(END, message, tag_name)\n",
    "        self.chat_display.configure(state=DISABLED)\n",
    "        self.chat_display.see(END)\n",
    "\n",
    "        # If it's temporary (like \"typing...\"), mark position\n",
    "        if temp:\n",
    "            self.last_temp_index = self.chat_display.index(\"end-2c\")\n",
    "\n",
    "    def _delete_last_line(self):\n",
    "        \"\"\"Remove temporary typing message\"\"\"\n",
    "        self.chat_display.configure(state=NORMAL)\n",
    "        self.chat_display.delete(\"end-3l\", \"end-1l\")\n",
    "        self.chat_display.configure(state=DISABLED)\n",
    "\n",
    "    def run(self):\n",
    "        self.window.mainloop()\n",
    "\n",
    "\n",
    "\n",
    "\n"
   ]
  },
  {
   "cell_type": "code",
   "execution_count": 16,
   "metadata": {},
   "outputs": [
    {
     "name": "stdout",
     "output_type": "stream",
     "text": [
      "Loaded 758 patterns across 137 intents.\n",
      "Loaded model and meta from chat_model_tfidf.pth, meta_tfidf.pkl.\n",
      " Model loaded successfully.\n"
     ]
    }
   ],
   "source": [
    "#\n",
    "if __name__ == \"__main__\":\n",
    "    app = ModernChatApp()\n",
    "    app.run()"
   ]
  },
  {
   "cell_type": "code",
   "execution_count": null,
   "id": "0ddb1e29",
   "metadata": {},
   "outputs": [],
   "source": []
  },
  {
   "cell_type": "code",
   "execution_count": null,
   "id": "f8b1b46e",
   "metadata": {},
   "outputs": [],
   "source": []
  },
  {
   "cell_type": "code",
   "execution_count": null,
   "id": "bf5b8fcd",
   "metadata": {},
   "outputs": [],
   "source": []
  },
  {
   "cell_type": "code",
   "execution_count": null,
   "id": "5c3e490d",
   "metadata": {},
   "outputs": [],
   "source": []
  },
  {
   "cell_type": "code",
   "execution_count": null,
   "metadata": {},
   "outputs": [],
   "source": []
  },
  {
   "cell_type": "code",
   "execution_count": null,
   "id": "9f1865ed",
   "metadata": {},
   "outputs": [],
   "source": []
  },
  {
   "cell_type": "code",
   "execution_count": null,
   "id": "e9b934e0",
   "metadata": {},
   "outputs": [],
   "source": []
  },
  {
   "cell_type": "code",
   "execution_count": null,
   "id": "123927ac",
   "metadata": {},
   "outputs": [],
   "source": []
  },
  {
   "cell_type": "code",
   "execution_count": null,
   "metadata": {},
   "outputs": [],
   "source": []
  },
  {
   "cell_type": "code",
   "execution_count": null,
   "metadata": {},
   "outputs": [],
   "source": []
  },
  {
   "cell_type": "code",
   "execution_count": null,
   "metadata": {},
   "outputs": [],
   "source": []
  },
  {
   "cell_type": "code",
   "execution_count": null,
   "id": "cbd0a83f",
   "metadata": {},
   "outputs": [],
   "source": []
  },
  {
   "cell_type": "code",
   "execution_count": null,
   "metadata": {},
   "outputs": [],
   "source": []
  },
  {
   "cell_type": "code",
   "execution_count": null,
   "id": "7061a0c6",
   "metadata": {},
   "outputs": [],
   "source": []
  },
  {
   "cell_type": "code",
   "execution_count": null,
   "id": "14983b2f",
   "metadata": {},
   "outputs": [],
   "source": []
  },
  {
   "cell_type": "code",
   "execution_count": null,
   "metadata": {},
   "outputs": [],
   "source": []
  },
  {
   "cell_type": "code",
   "execution_count": null,
   "metadata": {},
   "outputs": [],
   "source": []
  },
  {
   "cell_type": "code",
   "execution_count": null,
   "id": "d9977f53",
   "metadata": {},
   "outputs": [],
   "source": []
  }
 ],
 "metadata": {
  "kernelspec": {
   "display_name": ".venv",
   "language": "python",
   "name": "python3"
  },
  "language_info": {
   "codemirror_mode": {
    "name": "ipython",
    "version": 3
   },
   "file_extension": ".py",
   "mimetype": "text/x-python",
   "name": "python",
   "nbconvert_exporter": "python",
   "pygments_lexer": "ipython3",
   "version": "3.13.2"
  }
 },
 "nbformat": 4,
 "nbformat_minor": 5
}
